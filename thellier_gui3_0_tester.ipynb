{
 "cells": [
  {
   "cell_type": "code",
   "execution_count": 1,
   "metadata": {
    "collapsed": true
   },
   "outputs": [],
   "source": [
    "import programs.new_builder as nb\n",
    "from pmagpy import ipmag\n",
    "import os\n",
    "import json\n",
    "import numpy as np\n",
    "import sys\n",
    "\n",
    "import pandas as pd\n",
    "from pandas import DataFrame\n",
    "from pmagpy import builder\n",
    "from pmagpy import validate_upload\n",
    "from pmagpy import pmag\n",
    "\n",
    "pmagpy_dir = os.path.join(os.getcwd(), 'pmagpy')\n",
    "if pmagpy_dir not in sys.path:\n",
    "    sys.path.append(pmagpy_dir)\n",
    "    \n",
    "WD = os.path.join(os.getcwd(), \"3_0\", \"McMurdo\")\n"
   ]
  },
  {
   "cell_type": "code",
   "execution_count": 2,
   "metadata": {
    "collapsed": false
   },
   "outputs": [
    {
     "data": {
      "text/plain": [
       "Index([u'analyst_names', u'aniso_ftest', u'aniso_ftest12', u'aniso_ftest23',\n",
       "       u'aniso_s', u'aniso_s_mean', u'aniso_s_n_measurements',\n",
       "       u'aniso_s_sigma', u'aniso_s_unit', u'aniso_tilt_correction',\n",
       "       u'aniso_type', u'aniso_v1', u'aniso_v2', u'aniso_v3', u'citations',\n",
       "       u'description', u'dir_alpha95', u'dir_comp_name', u'dir_dec',\n",
       "       u'dir_inc', u'dir_mad_free', u'dir_n_measurements',\n",
       "       u'dir_tilt_correction', u'experiment_names', u'geologic_classes',\n",
       "       u'geologic_types', u'hyst_bc', u'hyst_bcr', u'hyst_mr_moment',\n",
       "       u'hyst_ms_moment', u'int_abs', u'int_b', u'int_b_beta', u'int_b_sigma',\n",
       "       u'int_corr', u'int_dang', u'int_drats', u'int_f', u'int_fvds',\n",
       "       u'int_gamma', u'int_mad_free', u'int_md', u'int_n_measurements',\n",
       "       u'int_n_ptrm', u'int_q', u'int_rsc', u'int_treat_dc_field',\n",
       "       u'lithologies', u'magic_method_codes', u'meas_step_max',\n",
       "       u'meas_step_min', u'meas_step_unit', u'method_codes', u'sample',\n",
       "       u'software_packages', u'specimen'],\n",
       "      dtype='object')"
      ]
     },
     "execution_count": 2,
     "metadata": {},
     "output_type": "execute_result"
    }
   ],
   "source": [
    "# get specimen level data from specimen table\n",
    "contribution = nb.Contribution(WD, read_tables=['measurements', 'specimens', 'samples','sites'])\n",
    "if 'specimens' in contribution.tables:\n",
    "    spec_container = contribution.tables['specimens']\n",
    "    spec_data = spec_container.df\n",
    "spec_data.columns\n"
   ]
  },
  {
   "cell_type": "code",
   "execution_count": 3,
   "metadata": {
    "collapsed": false
   },
   "outputs": [
    {
     "name": "stdout",
     "output_type": "stream",
     "text": [
      "         analyst_names aniso_ftest aniso_ftest12 aniso_ftest23  \\\n",
      "specimen                                                         \n",
      "mc121d1    @jsteindorf         3.8           0.4           5.3   \n",
      "mc121d1        @ltauxe        None          None          None   \n",
      "mc121d1        @ltauxe        None          None          None   \n",
      "\n",
      "                 aniso_s aniso_s_mean aniso_s_n_measurements aniso_s_sigma  \\\n",
      "specimen                                                                     \n",
      "mc121d1   .3:.3:.3:0:0:0   0.00005973                      9      0.013881   \n",
      "mc121d1             None         None                   None          None   \n",
      "mc121d1             None         None                   None          None   \n",
      "\n",
      "         aniso_s_unit aniso_tilt_correction   ...    int_treat_dc_field  \\\n",
      "specimen                                      ...                         \n",
      "mc121d1          Am^2                    -1   ...                  None   \n",
      "mc121d1          None                  None   ...                  None   \n",
      "mc121d1          None                  None   ...              2.50E-05   \n",
      "\n",
      "         lithologies                                 magic_method_codes  \\\n",
      "specimen                                                                  \n",
      "mc121d1       Basalt                                     LP-AN-ARM:AE-H   \n",
      "mc121d1       Basalt             LP-DIR-T:SO-GPS-DIFF:DE-BFL:DA-DIR-GEO   \n",
      "mc121d1       Basalt  LP-PI-TRM:LP-PI-ALT-PTRM:LP-PI-BT-IZZI:IE-TT:D...   \n",
      "\n",
      "         meas_step_max meas_step_min meas_step_unit  \\\n",
      "specimen                                              \n",
      "mc121d1           None          None           None   \n",
      "mc121d1            813           523              K   \n",
      "mc121d1            793           423              K   \n",
      "\n",
      "                                               method_codes  sample  \\\n",
      "specimen                                                              \n",
      "mc121d1                                    LP-AN-ARM : AE-H  mc121d   \n",
      "mc121d1        LP-DIR-T : SO-GPS-DIFF : DE-BFL : DA-DIR-GEO  mc121d   \n",
      "mc121d1   LP-PI-TRM : LP-PI-ALT-PTRM : LP-PI-BT-IZZI : I...  mc121d   \n",
      "\n",
      "         software_packages specimen  \n",
      "specimen                             \n",
      "mc121d1        pmagpy-2.58  mc121d1  \n",
      "mc121d1        pmagpy-2.58  mc121d1  \n",
      "mc121d1        pmagpy-2.60  mc121d1  \n",
      "\n",
      "[3 rows x 56 columns]\n"
     ]
    }
   ],
   "source": [
    "# find the record of a particular specimen.  if it already has aniso data, then modify in place\n",
    "# otherwise add a new record and modify that....    \n",
    "specimen='mc121d1' # a specimen with aniso data\n",
    "new_s='.3:.3:.3:0:0:0'\n",
    "if len(spec_data[spec_data['specimen'].str.contains(specimen) & spec_data['aniso_s'].notnull()])>0:\n",
    "    #print spec_data[spec_data['specimen'].str.contains(specimen)==True]\n",
    "    spec_data['aniso_s']=np.where(spec_data['specimen'].str.contains(specimen) & spec_data['aniso_s'].notnull(), new_s,spec_data['aniso_s'])\n",
    "else:\n",
    "    print 'no record found - creating new one'\n",
    "print spec_data[spec_data['specimen'].str.contains(specimen)==True]"
   ]
  },
  {
   "cell_type": "code",
   "execution_count": null,
   "metadata": {
    "collapsed": true
   },
   "outputs": [],
   "source": []
  }
 ],
 "metadata": {
  "kernelspec": {
   "display_name": "Python 2",
   "language": "python",
   "name": "python2"
  },
  "language_info": {
   "codemirror_mode": {
    "name": "ipython",
    "version": 2
   },
   "file_extension": ".py",
   "mimetype": "text/x-python",
   "name": "python",
   "nbconvert_exporter": "python",
   "pygments_lexer": "ipython2",
   "version": "2.7.11"
  }
 },
 "nbformat": 4,
 "nbformat_minor": 0
}
