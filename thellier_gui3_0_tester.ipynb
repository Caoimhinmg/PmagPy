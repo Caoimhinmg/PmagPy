{
 "cells": [
  {
   "cell_type": "code",
   "execution_count": 30,
   "metadata": {
    "collapsed": true
   },
   "outputs": [],
   "source": [
    "import programs.new_builder as nb\n",
    "from pmagpy import ipmag\n",
    "import os\n",
    "import json\n",
    "import numpy as np\n",
    "import sys\n",
    "\n",
    "import pandas as pd\n",
    "from pandas import DataFrame\n",
    "from pmagpy import builder\n",
    "from pmagpy import validate_upload\n",
    "from pmagpy import pmag\n",
    "\n",
    "pmagpy_dir = os.path.join(os.getcwd(), 'pmagpy')\n",
    "if pmagpy_dir not in sys.path:\n",
    "    sys.path.append(pmagpy_dir)\n",
    "    \n",
    "WD = os.path.join(os.getcwd(), \"3_0\", \"McMurdo\")\n"
   ]
  },
  {
   "cell_type": "code",
   "execution_count": 41,
   "metadata": {
    "collapsed": false
   },
   "outputs": [
    {
     "data": {
      "text/plain": [
       "Index([u'analyst_names', u'aniso_ftest', u'aniso_ftest12', u'aniso_ftest23',\n",
       "       u'aniso_s', u'aniso_s_mean', u'aniso_s_n_measurements',\n",
       "       u'aniso_s_sigma', u'aniso_s_unit', u'aniso_tilt_correction',\n",
       "       u'aniso_type', u'aniso_v1', u'aniso_v2', u'aniso_v3', u'citations',\n",
       "       u'description', u'dir_alpha95', u'dir_comp_name', u'dir_dec',\n",
       "       u'dir_inc', u'dir_mad_free', u'dir_n_measurements',\n",
       "       u'dir_tilt_correction', u'experiment_names', u'geologic_classes',\n",
       "       u'geologic_types', u'hyst_bc', u'hyst_bcr', u'hyst_mr_moment',\n",
       "       u'hyst_ms_moment', u'int_abs', u'int_b', u'int_b_beta', u'int_b_sigma',\n",
       "       u'int_corr', u'int_dang', u'int_drats', u'int_f', u'int_fvds',\n",
       "       u'int_gamma', u'int_mad_free', u'int_md', u'int_n_measurements',\n",
       "       u'int_n_ptrm', u'int_q', u'int_rsc', u'int_treat_dc_field',\n",
       "       u'lithologies', u'magic_method_codes', u'meas_step_max',\n",
       "       u'meas_step_min', u'meas_step_unit', u'method_codes', u'sample',\n",
       "       u'software_packages', u'specimen'],\n",
       "      dtype='object')"
      ]
     },
     "execution_count": 41,
     "metadata": {},
     "output_type": "execute_result"
    }
   ],
   "source": [
    "# get specimen level data from specimen table\n",
    "contribution = nb.Contribution(WD, read_tables=['measurements', 'specimens', 'samples','sites'])\n",
    "if 'specimens' in contribution.tables:\n",
    "    spec_container = contribution.tables['specimens']\n",
    "    spec_data = spec_container.df\n",
    "spec_data.columns\n"
   ]
  },
  {
   "cell_type": "code",
   "execution_count": 46,
   "metadata": {
    "collapsed": false
   },
   "outputs": [
    {
     "name": "stderr",
     "output_type": "stream",
     "text": [
      "/Users/ltauxe/Library/Enthought/Canopy_64bit/User/lib/python2.7/site-packages/ipykernel/__main__.py:5: DeprecationWarning: using a non-integer number instead of an integer will result in an error in the future\n"
     ]
    },
    {
     "ename": "IndexError",
     "evalue": "only integers, slices (`:`), ellipsis (`...`), numpy.newaxis (`None`) and integer or boolean arrays are valid indices",
     "output_type": "error",
     "traceback": [
      "\u001b[0;31m---------------------------------------------------------------------------\u001b[0m",
      "\u001b[0;31mIndexError\u001b[0m                                Traceback (most recent call last)",
      "\u001b[0;32m<ipython-input-46-1518a77b578d>\u001b[0m in \u001b[0;36m<module>\u001b[0;34m()\u001b[0m\n\u001b[1;32m      3\u001b[0m \u001b[0mspecimen\u001b[0m\u001b[0;34m=\u001b[0m\u001b[0;34m'mc121d1'\u001b[0m \u001b[0;31m# a specimen with aniso data\u001b[0m\u001b[0;34m\u001b[0m\u001b[0m\n\u001b[1;32m      4\u001b[0m \u001b[0mnew_s\u001b[0m\u001b[0;34m=\u001b[0m\u001b[0;34m'.3:.3:.3:0:0:0'\u001b[0m\u001b[0;34m\u001b[0m\u001b[0m\n\u001b[0;32m----> 5\u001b[0;31m \u001b[0;32mif\u001b[0m \u001b[0mlen\u001b[0m\u001b[0;34m(\u001b[0m\u001b[0mspec_data\u001b[0m\u001b[0;34m[\u001b[0m\u001b[0mspec_data\u001b[0m\u001b[0;34m[\u001b[0m\u001b[0;34m'specimen'\u001b[0m\u001b[0;34m]\u001b[0m\u001b[0;34m.\u001b[0m\u001b[0mstr\u001b[0m\u001b[0;34m.\u001b[0m\u001b[0mcontains\u001b[0m\u001b[0;34m(\u001b[0m\u001b[0mspecimen\u001b[0m\u001b[0;34m)\u001b[0m \u001b[0;34m&\u001b[0m \u001b[0mspec_data\u001b[0m\u001b[0;34m[\u001b[0m\u001b[0;34m'aniso_s'\u001b[0m\u001b[0;34m]\u001b[0m\u001b[0;34m.\u001b[0m\u001b[0mnotnull\u001b[0m\u001b[0;34m(\u001b[0m\u001b[0;34m)\u001b[0m\u001b[0;34m]\u001b[0m\u001b[0;34m)\u001b[0m\u001b[0;34m>\u001b[0m\u001b[0;36m0\u001b[0m\u001b[0;34m:\u001b[0m\u001b[0;34m\u001b[0m\u001b[0m\n\u001b[0m\u001b[1;32m      6\u001b[0m     \u001b[0;31m#print spec_data[spec_data['specimen'].str.contains(specimen)==True]\u001b[0m\u001b[0;34m\u001b[0m\u001b[0;34m\u001b[0m\u001b[0m\n\u001b[1;32m      7\u001b[0m     \u001b[0mspec_data\u001b[0m\u001b[0;34m[\u001b[0m\u001b[0;34m'aniso_s'\u001b[0m\u001b[0;34m]\u001b[0m\u001b[0;34m=\u001b[0m\u001b[0mnp\u001b[0m\u001b[0;34m.\u001b[0m\u001b[0mwhere\u001b[0m\u001b[0;34m(\u001b[0m\u001b[0mspec_data\u001b[0m\u001b[0;34m[\u001b[0m\u001b[0;34m'specimen'\u001b[0m\u001b[0;34m]\u001b[0m\u001b[0;34m.\u001b[0m\u001b[0mstr\u001b[0m\u001b[0;34m.\u001b[0m\u001b[0mcontains\u001b[0m\u001b[0;34m(\u001b[0m\u001b[0mspecimen\u001b[0m\u001b[0;34m)\u001b[0m \u001b[0;34m&\u001b[0m \u001b[0mspec_data\u001b[0m\u001b[0;34m[\u001b[0m\u001b[0;34m'aniso_s'\u001b[0m\u001b[0;34m]\u001b[0m\u001b[0;34m.\u001b[0m\u001b[0mnotnull\u001b[0m\u001b[0;34m(\u001b[0m\u001b[0;34m)\u001b[0m\u001b[0;34m,\u001b[0m \u001b[0mnew_s\u001b[0m\u001b[0;34m,\u001b[0m\u001b[0mspec_data\u001b[0m\u001b[0;34m[\u001b[0m\u001b[0;34m'aniso_s'\u001b[0m\u001b[0;34m]\u001b[0m\u001b[0;34m)\u001b[0m\u001b[0;34m\u001b[0m\u001b[0m\n",
      "\u001b[0;31mIndexError\u001b[0m: only integers, slices (`:`), ellipsis (`...`), numpy.newaxis (`None`) and integer or boolean arrays are valid indices"
     ]
    }
   ],
   "source": [
    "# find the record of a particular specimen.  if it already has aniso data, then modify in place\n",
    "# otherwise add a new record and modify that....    \n",
    "specimen='mc121d1' # a specimen with aniso data\n",
    "new_s='.3:.3:.3:0:0:0'\n",
    "if len(spec_data[spec_data['specimen'].str.contains(specimen) & spec_data['aniso_s'].notnull()])>0:\n",
    "    #print spec_data[spec_data['specimen'].str.contains(specimen)==True]\n",
    "    spec_data['aniso_s']=np.where(spec_data['specimen'].str.contains(specimen) & spec_data['aniso_s'].notnull(), new_s,spec_data['aniso_s'])\n",
    "else:\n",
    "    print 'no record found - creating new one'\n",
    "print spec_data[spec_data['specimen'].str.contains(specimen)==True]"
   ]
  },
  {
   "cell_type": "code",
   "execution_count": null,
   "metadata": {
    "collapsed": true
   },
   "outputs": [],
   "source": []
  }
 ],
 "metadata": {
  "kernelspec": {
   "display_name": "Python 2",
   "language": "python",
   "name": "python2"
  },
  "language_info": {
   "codemirror_mode": {
    "name": "ipython",
    "version": 2
   },
   "file_extension": ".py",
   "mimetype": "text/x-python",
   "name": "python",
   "nbconvert_exporter": "python",
   "pygments_lexer": "ipython2",
   "version": "2.7.11"
  }
 },
 "nbformat": 4,
 "nbformat_minor": 0
}
