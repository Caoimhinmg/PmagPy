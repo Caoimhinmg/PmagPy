{
 "cells": [
  {
   "cell_type": "code",
   "execution_count": 1,
   "metadata": {
    "collapsed": false
   },
   "outputs": [
    {
     "name": "stdout",
     "output_type": "stream",
     "text": [
      "<module 'pmagpy.validate_upload' from 'pmagpy/validate_upload.pyc'>\n"
     ]
    }
   ],
   "source": [
    "import json\n",
    "import os\n",
    "import pandas as pd\n",
    "from pandas import DataFrame, Series\n",
    "import numpy as np\n",
    "import pmagpy.builder as builder"
   ]
  },
  {
   "cell_type": "code",
   "execution_count": 2,
   "metadata": {
    "collapsed": false
   },
   "outputs": [
    {
     "data": {
      "text/plain": [
       "{u'hello': u'hi', u'so long': u'goodbye'}"
      ]
     },
     "execution_count": 2,
     "metadata": {},
     "output_type": "execute_result"
    }
   ],
   "source": [
    "import json\n",
    "json_string = '{\"first_name\": \"Guido\", \"last_name\":\"Rossum\"}'\n",
    "parsed = json.loads(json_string)\n",
    "parsed\n",
    "d = {'hello': 'hi', 'so long': 'goodbye'}\n",
    "dumped = json.dumps(d)\n",
    "outfile = open('stored.json', 'w')\n",
    "json.dump(dumped, outfile)\n",
    "outfile.close()\n",
    "os.listdir(os.getcwd())\n",
    "jstring = json.load(open('stored.json', 'r'))\n",
    "json.loads(jstring)"
   ]
  },
  {
   "cell_type": "code",
   "execution_count": 3,
   "metadata": {
    "collapsed": false
   },
   "outputs": [
    {
     "data": {
      "text/plain": [
       "u'\\r\\n\\n'"
      ]
     },
     "execution_count": 3,
     "metadata": {},
     "output_type": "execute_result"
    }
   ],
   "source": [
    "unicode('\\r\\n\\n\\xc2\\xa0\\xc2\\xa0', errors='ignore')"
   ]
  },
  {
   "cell_type": "code",
   "execution_count": 4,
   "metadata": {
    "collapsed": false
   },
   "outputs": [
    {
     "data": {
      "text/html": [
       "<div>\n",
       "<table border=\"1\" class=\"dataframe\">\n",
       "  <thead>\n",
       "    <tr style=\"text-align: right;\">\n",
       "      <th></th>\n",
       "      <th>description</th>\n",
       "      <th>examples</th>\n",
       "      <th>group</th>\n",
       "      <th>label</th>\n",
       "      <th>notes</th>\n",
       "      <th>position</th>\n",
       "      <th>previous_columns</th>\n",
       "      <th>type</th>\n",
       "      <th>unit</th>\n",
       "      <th>urls</th>\n",
       "      <th>validations</th>\n",
       "    </tr>\n",
       "  </thead>\n",
       "  <tbody>\n",
       "    <tr>\n",
       "      <th>age_high</th>\n",
       "      <td>Location inferred age, High range</td>\n",
       "      <td>NaN</td>\n",
       "      <td>Age</td>\n",
       "      <td>Inferred Age High</td>\n",
       "      <td>NaN</td>\n",
       "      <td>36</td>\n",
       "      <td>[{u'column': u'average_age_high', u'table': u'...</td>\n",
       "      <td>Number</td>\n",
       "      <td>Custom</td>\n",
       "      <td>NaN</td>\n",
       "      <td>[min(\"age_low\"), requiredUnlessTable(\"sites\")]</td>\n",
       "    </tr>\n",
       "    <tr>\n",
       "      <th>age_low</th>\n",
       "      <td>Location inferred age, Low range</td>\n",
       "      <td>NaN</td>\n",
       "      <td>Age</td>\n",
       "      <td>Inferred Age Low</td>\n",
       "      <td>NaN</td>\n",
       "      <td>35</td>\n",
       "      <td>[{u'column': u'average_age_low', u'table': u'p...</td>\n",
       "      <td>Number</td>\n",
       "      <td>Custom</td>\n",
       "      <td>NaN</td>\n",
       "      <td>[max(\"age_high\"), requiredUnlessTable(\"sites\")]</td>\n",
       "    </tr>\n",
       "    <tr>\n",
       "      <th>age_unit</th>\n",
       "      <td>Location inferred age, Age unit</td>\n",
       "      <td>NaN</td>\n",
       "      <td>Age</td>\n",
       "      <td>Inferred Age Unit</td>\n",
       "      <td>NaN</td>\n",
       "      <td>37</td>\n",
       "      <td>[{u'column': u'average_age_unit', u'table': u'...</td>\n",
       "      <td>String</td>\n",
       "      <td>NaN</td>\n",
       "      <td>NaN</td>\n",
       "      <td>[cv(\"age_unit\"), requiredUnlessTable(\"sites\")]</td>\n",
       "    </tr>\n",
       "  </tbody>\n",
       "</table>\n",
       "</div>"
      ],
      "text/plain": [
       "                                description examples group              label  \\\n",
       "age_high  Location inferred age, High range      NaN   Age  Inferred Age High   \n",
       "age_low    Location inferred age, Low range      NaN   Age   Inferred Age Low   \n",
       "age_unit    Location inferred age, Age unit      NaN   Age  Inferred Age Unit   \n",
       "\n",
       "         notes position                                   previous_columns  \\\n",
       "age_high   NaN       36  [{u'column': u'average_age_high', u'table': u'...   \n",
       "age_low    NaN       35  [{u'column': u'average_age_low', u'table': u'p...   \n",
       "age_unit   NaN       37  [{u'column': u'average_age_unit', u'table': u'...   \n",
       "\n",
       "            type    unit urls                                      validations  \n",
       "age_high  Number  Custom  NaN   [min(\"age_low\"), requiredUnlessTable(\"sites\")]  \n",
       "age_low   Number  Custom  NaN  [max(\"age_high\"), requiredUnlessTable(\"sites\")]  \n",
       "age_unit  String     NaN  NaN   [cv(\"age_unit\"), requiredUnlessTable(\"sites\")]  "
      ]
     },
     "execution_count": 4,
     "metadata": {},
     "output_type": "execute_result"
    }
   ],
   "source": [
    "def get_data_model():\n",
    "    model_file = os.path.join('3_0', 'MagIC Data Model v3.0 - unpublished.json')\n",
    "    f = open(model_file, 'r')\n",
    "    string = '\\n'.join(f.readlines())\n",
    "    raw = json.loads(unicode(string, errors='ignore'))\n",
    "    full = DataFrame(raw)\n",
    "    return full\n",
    "    \n",
    "full = get_data_model()\n",
    "DataFrame(full['tables']['locations'])\n",
    "location = DataFrame(full['tables']['locations']['columns'])\n",
    "location = location.transpose()\n",
    "#full['tables']['locations'].pop('columns')\n",
    "#full['tables']['locations']\n",
    "# don't really need anything that isn't in ['tables'][table]['columns']\n",
    "location[:3]"
   ]
  },
  {
   "cell_type": "code",
   "execution_count": 5,
   "metadata": {
    "collapsed": false
   },
   "outputs": [
    {
     "name": "stdout",
     "output_type": "stream",
     "text": [
      "                                                              description  \\\n",
      "conglomerate_test       Classification and result of the (intra-format...   \n",
      "contact_test            Classification and result of the (inverse) con...   \n",
      "dic_inc                 Location direction in coordinates specified by...   \n",
      "dir_alpha95             Location direction in coordinates specified by...   \n",
      "dir_dec                 Location direction in coordinates specified by...   \n",
      "dir_k                   Location direction in coordinates specified by...   \n",
      "dir_k_ratio             Comparison of Fisher dispersion K after and be...   \n",
      "dir_n_samples           Number of samples included in directional calc...   \n",
      "dir_n_sites             Number of sites included in directional calcul...   \n",
      "dir_polarity            Location direction polarity is normal (n), rev...   \n",
      "dir_r                   Location direction in coordinates specified by...   \n",
      "dir_tilt_correction        Percentage tilt correction applied to the data   \n",
      "fold_test                   Classification and result of the folding test   \n",
      "fold_test_significance  Significance level achieved in tilt correction...   \n",
      "reversal_test              Classification and result of the reversal test   \n",
      "\n",
      "                       examples      group                      label  \\\n",
      "conglomerate_test           NaN  Direction          Conglomerate Test   \n",
      "contact_test                NaN  Direction         Baked Contact Test   \n",
      "dic_inc                     NaN  Direction      Direction Inclination   \n",
      "dir_alpha95                 NaN  Direction        Direction Alpha 95%   \n",
      "dir_dec                     NaN  Direction      Direction Declination   \n",
      "dir_k                       NaN  Direction                Direction K   \n",
      "dir_k_ratio                 NaN  Direction     Direction Tilt K Ratio   \n",
      "dir_n_samples               NaN  Direction        Direction N Samples   \n",
      "dir_n_sites                 NaN  Direction          Direction N Sites   \n",
      "dir_polarity                NaN  Direction         Direction Polarity   \n",
      "dir_r                       NaN  Direction                Direction R   \n",
      "dir_tilt_correction         NaN  Direction  Direction Tilt Correction   \n",
      "fold_test                   NaN  Direction                  Fold Test   \n",
      "fold_test_significance      NaN  Direction     Fold Test Significance   \n",
      "reversal_test               NaN  Direction              Reversal Test   \n",
      "\n",
      "                                                                    notes  \\\n",
      "conglomerate_test                                                     NaN   \n",
      "contact_test                                                          NaN   \n",
      "dic_inc                                                               NaN   \n",
      "dir_alpha95                                        Confidence Level = 95%   \n",
      "dir_dec                                                               NaN   \n",
      "dir_k                                                                 NaN   \n",
      "dir_k_ratio                                                           NaN   \n",
      "dir_n_samples                                                         NaN   \n",
      "dir_n_sites                                                           NaN   \n",
      "dir_polarity                                                          NaN   \n",
      "dir_r                                                                 NaN   \n",
      "dir_tilt_correction     Correction between geographic (0%) and stratig...   \n",
      "fold_test                                                             NaN   \n",
      "fold_test_significance                                                NaN   \n",
      "reversal_test                                                         NaN   \n",
      "\n",
      "                       position  \\\n",
      "conglomerate_test            50   \n",
      "contact_test                 51   \n",
      "dic_inc                      40   \n",
      "dir_alpha95                  41   \n",
      "dir_dec                      39   \n",
      "dir_k                        43   \n",
      "dir_k_ratio                  44   \n",
      "dir_n_samples                46   \n",
      "dir_n_sites                  45   \n",
      "dir_polarity                 47   \n",
      "dir_r                        42   \n",
      "dir_tilt_correction          38   \n",
      "fold_test                    49   \n",
      "fold_test_significance       48   \n",
      "reversal_test                52   \n",
      "\n",
      "                                                         previous_columns  \\\n",
      "conglomerate_test       [{u'column': u'conglomerate_test', u'table': u...   \n",
      "contact_test            [{u'column': u'contact_test', u'table': u'pmag...   \n",
      "dic_inc                 [{u'column': u'average_inc', u'table': u'pmag_...   \n",
      "dir_alpha95             [{u'column': u'average_alpha95', u'table': u'p...   \n",
      "dir_dec                 [{u'column': u'average_dec', u'table': u'pmag_...   \n",
      "dir_k                   [{u'column': u'average_k', u'table': u'pmag_re...   \n",
      "dir_k_ratio             [{u'column': u'tilt_k_ratio', u'table': u'pmag...   \n",
      "dir_n_samples           [{u'column': u'average_nn', u'table': u'pmag_r...   \n",
      "dir_n_sites             [{u'column': u'average_n', u'table': u'pmag_re...   \n",
      "dir_polarity                                                          NaN   \n",
      "dir_r                   [{u'column': u'average_r', u'table': u'pmag_re...   \n",
      "dir_tilt_correction     [{u'column': u'tilt_correction', u'table': u'p...   \n",
      "fold_test               [{u'column': u'fold_test', u'table': u'pmag_re...   \n",
      "fold_test_significance  [{u'column': u'fold_test_significance', u'tabl...   \n",
      "reversal_test           [{u'column': u'reversal_test', u'table': u'pma...   \n",
      "\n",
      "                           type           unit urls  \\\n",
      "conglomerate_test        String           Flag  NaN   \n",
      "contact_test             String           Flag  NaN   \n",
      "dic_inc                  Number        Degrees  NaN   \n",
      "dir_alpha95              Number        Degrees  NaN   \n",
      "dir_dec                  Number        Degrees  NaN   \n",
      "dir_k                    Number  Dimensionless  NaN   \n",
      "dir_k_ratio              Number  Dimensionless  NaN   \n",
      "dir_n_samples           Integer            NaN  NaN   \n",
      "dir_n_sites             Integer            NaN  NaN   \n",
      "dir_polarity             String           Flag  NaN   \n",
      "dir_r                    Number  Dimensionless  NaN   \n",
      "dir_tilt_correction      Number              %  NaN   \n",
      "fold_test                String           Flag  NaN   \n",
      "fold_test_significance   Number              %  NaN   \n",
      "reversal_test            String           Flag  NaN   \n",
      "\n",
      "                                                              validations  \n",
      "conglomerate_test                               [cv(\"conglomerate_test\")]  \n",
      "contact_test                                         [cv(\"contact_test\")]  \n",
      "dic_inc                 [min(-90), max(90), requiredIfGroup(\"Direction\")]  \n",
      "dir_alpha95                                                      [min(0)]  \n",
      "dir_dec                  [min(0), max(360), requiredIfGroup(\"Direction\")]  \n",
      "dir_k                                                            [min(0)]  \n",
      "dir_k_ratio                                                      [min(0)]  \n",
      "dir_n_samples                                                    [min(0)]  \n",
      "dir_n_sites                                                      [min(0)]  \n",
      "dir_polarity                                             [cv(\"polarity\")]  \n",
      "dir_r                                                            [min(0)]  \n",
      "dir_tilt_correction     [min(-3), max(100), requiredIfGroup(\"Direction\")]  \n",
      "fold_test                                               [cv(\"fold_test\")]  \n",
      "fold_test_significance                                 [min(0), max(100)]  \n",
      "reversal_test                                       [cv(\"reversal_test\")]  \n",
      "True\n",
      "False\n",
      "85\n"
     ]
    }
   ],
   "source": [
    "# get all headers of a particular group\n",
    "cond = location['group'] == 'Age'\n",
    "age_columns = location[cond]\n",
    "\n",
    "# get a particular column\n",
    "location.ix['age_high']\n",
    "\n",
    "# get validations for a particular column\n",
    "validations = location.ix['age_high']['validations']\n",
    "\n",
    "# get all groups for locations\n",
    "location['group'].unique()\n",
    "\n",
    "# get all values in a group\n",
    "group = 'Direction'\n",
    "print location[location['group'] == group]\n",
    "\n",
    "# get all column labels for locations\n",
    "list(location.index)\n",
    "print 'required()' in location.ix['location_name']['validations']\n",
    "print 'required()' in location.ix['continent_ocean']['validations']\n",
    "\n",
    "'required()' in location.ix['location_name']\n",
    "\n",
    "z = np.zeros([2, 3])\n",
    "z[0] = 1\n",
    "z[1] = 2\n",
    "z\n",
    "location[location['group'] > 'Age']\n",
    "\n",
    "def do_thing(x):\n",
    "    if isinstance(x, float):\n",
    "        return False\n",
    "    elif 'required()' in x:\n",
    "        return x\n",
    "    else:\n",
    "        return False\n",
    "cond = location['validations'].map(do_thing)\n",
    "print len(cond)\n",
    "\n",
    "d = DataFrame([\"cat\" for i in range(10, 20)], range(10),)\n",
    "d['at' in d[0]]\n",
    "\n",
    "location['validations']['age_high'] = 'req'#.str.contains('e')\n",
    "location['validations'].str.contains('e')\n",
    "\n",
    "cond = location['validations'].map(lambda x: 'required()' in str(x))\n",
    "\n",
    "all_loc_headers = [str(i) for i in location['validations'].index]\n",
    "reqd_loc_headers = [str(i) for i in location[cond].index]\n",
    "headers = [[], reqd_loc_headers, all_loc_headers] # this is basically how self.headers is organizaed now in builder.py\n",
    "\n"
   ]
  },
  {
   "cell_type": "code",
   "execution_count": 6,
   "metadata": {
    "collapsed": false,
    "scrolled": true
   },
   "outputs": [
    {
     "name": "stderr",
     "output_type": "stream",
     "text": [
      "/Users/nebula/Library/Enthought/Canopy_64bit/User/lib/python2.7/site-packages/ipykernel/__main__.py:1: FutureWarning: sort(columns=....) is deprecated, use sort_values(by=.....)\n",
      "  if __name__ == '__main__':\n"
     ]
    },
    {
     "data": {
      "text/plain": [
       "array([u'Age', u'Metadata', u'Result', u'Direction', u'Position',\n",
       "       u'Expedition', u'Names', u'Geology', u'Location', u'PADM',\n",
       "       u'Paleoposition', u'PDM', u'Pole'], dtype=object)"
      ]
     },
     "execution_count": 6,
     "metadata": {},
     "output_type": "execute_result"
    }
   ],
   "source": [
    "location.sort('group')\n",
    "location['group'].unique()\n"
   ]
  },
  {
   "cell_type": "code",
   "execution_count": 7,
   "metadata": {
    "collapsed": true
   },
   "outputs": [],
   "source": [
    "os.chdir('/Users/nebula/Python/PmagPy')\n",
    "\n",
    "from pmagpy import validate_upload\n",
    "import pmagpy.builder as builder"
   ]
  },
  {
   "cell_type": "code",
   "execution_count": 8,
   "metadata": {
    "collapsed": false
   },
   "outputs": [
    {
     "name": "stdout",
     "output_type": "stream",
     "text": [
      "<module 'pmagpy.validate_upload' from 'pmagpy/validate_upload.pyc'>\n",
      "data_model.keys() ['ages', 'specimens', 'sites', 'samples', 'locations']\n",
      "dtype location\n",
      "heffalumps and woozles\n",
      "data_model[dtype + 's'].keys() Index([u'description', u'examples', u'group', u'label', u'notes', u'position',\n",
      "       u'previous_columns', u'type', u'unit', u'urls', u'validations'],\n",
      "      dtype='object')\n",
      "data_model.keys() ['ages', 'specimens', 'sites', 'samples', 'locations']\n",
      "dtype site\n",
      "heffalumps and woozles\n",
      "data_model[dtype + 's'].keys() Index([u'description', u'examples', u'group', u'label', u'notes', u'position',\n",
      "       u'previous_columns', u'type', u'unit', u'urls', u'validations'],\n",
      "      dtype='object')\n",
      "data_model.keys() ['ages', 'specimens', 'sites', 'samples', 'locations']\n",
      "dtype sample\n",
      "heffalumps and woozles\n",
      "data_model[dtype + 's'].keys() Index([u'description', u'examples', u'group', u'label', u'notes', u'position',\n",
      "       u'previous_columns', u'type', u'unit', u'urls', u'validations'],\n",
      "      dtype='object')\n",
      "data_model.keys() ['ages', 'specimens', 'sites', 'samples', 'locations']\n",
      "dtype specimen\n",
      "heffalumps and woozles\n",
      "data_model[dtype + 's'].keys() Index([u'description', u'examples', u'group', u'label', u'notes', u'position',\n",
      "       u'previous_columns', u'type', u'unit', u'urls', u'validations'],\n",
      "      dtype='object')\n"
     ]
    }
   ],
   "source": [
    "reload(builder)\n",
    "reload(validate_upload)\n",
    "dmodel = full\n",
    "b = builder.ErMagicBuilder('/Users/nebula/Python/PmagPy/3_0', dmodel)\n",
    "b.data_model['locations']\n",
    "\n",
    "\n",
    "loc = builder.Location('location', None, b.data_model)\n",
    "site = builder.Site('a_site', loc, b.data_model)\n",
    "samp = builder.Sample('heyo', site, b.data_model)\n",
    "spec = builder.Specimen('hi', site, b.data_model)\n"
   ]
  },
  {
   "cell_type": "code",
   "execution_count": 9,
   "metadata": {
    "collapsed": false
   },
   "outputs": [
    {
     "name": "stdout",
     "output_type": "stream",
     "text": [
      "<module 'pmagpy.validate_upload' from 'pmagpy/validate_upload.pyc'>\n",
      "adding specimen\n",
      "data_model.keys() ['ages', 'specimens', 'sites', 'samples', 'locations']\n",
      "dtype specimen\n",
      "heffalumps and woozles\n",
      "data_model[dtype + 's'].keys() Index([u'description', u'examples', u'group', u'label', u'notes', u'position',\n",
      "       u'previous_columns', u'type', u'unit', u'urls', u'validations'],\n",
      "      dtype='object')\n",
      "key geologic_classes\n",
      "[specimen: new_spec]\n",
      "{'geologic_classes': 'class1:class2'}\n",
      "-W- sample is not a currently existing sample.\n",
      "Creating a new sample named: sample \n",
      "data_model.keys() ['ages', 'specimens', 'sites', 'samples', 'locations']\n",
      "dtype sample\n",
      "heffalumps and woozles\n",
      "data_model[dtype + 's'].keys() Index([u'description', u'examples', u'group', u'label', u'notes', u'position',\n",
      "       u'previous_columns', u'type', u'unit', u'urls', u'validations'],\n",
      "      dtype='object')\n",
      "{'geologic_classes': 'class1:class2', 'geologic_types': 'type1:type2'}\n",
      "{'geologic_types': 'type3'}\n",
      "[]\n",
      "[sample: sample]\n"
     ]
    }
   ],
   "source": [
    "# all of the specimen methods are working\n",
    "\n",
    "reload(builder)\n",
    "b.specimens = []\n",
    "spec = b.add_specimen('new_spec', None, {'geologic_classes': \"class1:class2\"})\n",
    "print b.specimens\n",
    "print spec.data\n",
    "b.change_specimen('new_spec', 'cool_spec', 'sample', {'geologic_types': \"type1:type2\"})\n",
    "print spec.data\n",
    "b.change_specimen('cool_spec', 'cool_spec', 'sample', {'geologic_types': \"type3\"}, replace_data=True)\n",
    "print spec.data\n",
    "b.delete_methods['specimen']('cool_spec')\n",
    "print b.specimens\n",
    "print b.samples"
   ]
  },
  {
   "cell_type": "code",
   "execution_count": 10,
   "metadata": {
    "collapsed": false
   },
   "outputs": [
    {
     "data": {
      "text/plain": [
       "array([u'Age', u'Geology', u'Metadata', u'Anisotropy', u'Result',\n",
       "       u'Critical Temperature', u'Specimen', u'Directional Statistics',\n",
       "       u'Direction', u'Names', u'Fossil', u'Hysteresis', u'Paleointensity',\n",
       "       u'Paleointensity Directional Statistics',\n",
       "       u'Paleointensity Arai Statistics',\n",
       "       u'Paleointensity pTRM Check Statistics',\n",
       "       u'Paleointensity Additivity Check Statistics',\n",
       "       u'Paleointensity pTRM Tail Check Statistics', u'Magnetization',\n",
       "       u'Measurement Parameters', u'Mineral', u'Remanence',\n",
       "       u'Susceptibility', u'Synthetic', u'VGP'], dtype=object)"
      ]
     },
     "execution_count": 10,
     "metadata": {},
     "output_type": "execute_result"
    }
   ],
   "source": [
    "b.data_model['specimens']['group'].unique()"
   ]
  },
  {
   "cell_type": "code",
   "execution_count": 11,
   "metadata": {
    "collapsed": false,
    "scrolled": true
   },
   "outputs": [
    {
     "name": "stdout",
     "output_type": "stream",
     "text": [
      "<module 'pmagpy.validate_upload' from 'pmagpy/validate_upload.pyc'>\n",
      "adding specimen\n"
     ]
    },
    {
     "data": {
      "text/plain": [
       "[u'requiredUnless(\"age_low\",\"age_high\")', u'requiredIf(\"age_sigma\")']"
      ]
     },
     "execution_count": 11,
     "metadata": {},
     "output_type": "execute_result"
    }
   ],
   "source": [
    "reload(builder)\n",
    "b = builder.ErMagicBuilder('/Users/nebula/Python/PmagPy/3_0', dmodel)\n",
    "\n",
    "spec = b.add_specimen('spec', None, {'geologic_classes': 'awesome'}, ['Geology', 'Specimen'])\n",
    "spec.groups\n",
    "\n",
    "l = []\n",
    "data_type = 'specimens'\n",
    "# add headers that are required for a group\n",
    "for group in spec.groups:\n",
    "    l.extend(list(b.data_model[data_type][b.data_model[data_type]['group'] == group].index))\n",
    "\n",
    "# add cols that are req'd no matter what        \n",
    "cond = b.data_model[data_type]['validations'].map(lambda x: 'required()' in str(x))\n",
    "l.extend(list(b.data_model[data_type][cond].index))\n",
    "\n",
    "# how to deal with the requiredUnless, requiredIf stuff.... : \\\n",
    "\n",
    "b.data_model[data_type]['validations']['age']\n",
    "#b.data_model['specimens']['group'].unique()\n",
    "\n"
   ]
  },
  {
   "cell_type": "code",
   "execution_count": null,
   "metadata": {
    "collapsed": true
   },
   "outputs": [],
   "source": []
  }
 ],
 "metadata": {
  "kernelspec": {
   "display_name": "Python 2",
   "language": "python",
   "name": "python2"
  },
  "language_info": {
   "codemirror_mode": {
    "name": "ipython",
    "version": 2
   },
   "file_extension": ".py",
   "mimetype": "text/x-python",
   "name": "python",
   "nbconvert_exporter": "python",
   "pygments_lexer": "ipython2",
   "version": "2.7.10"
  }
 },
 "nbformat": 4,
 "nbformat_minor": 0
}
