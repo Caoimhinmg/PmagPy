{
 "metadata": {
  "name": "",
  "signature": "sha256:85a671f6023046fd741ee7f760613b515cdaf1be158c789a8c684373a401dc20"
 },
 "nbformat": 3,
 "nbformat_minor": 0,
 "worksheets": [
  {
   "cells": [
    {
     "cell_type": "heading",
     "level": 1,
     "metadata": {},
     "source": [
      "IPython Notebook for turning in solutions to the problems in the Essentials of Paleomagnetism Textbook by L. Tauxe"
     ]
    },
    {
     "cell_type": "heading",
     "level": 2,
     "metadata": {},
     "source": [
      "Problems in Chapter 3"
     ]
    },
    {
     "cell_type": "heading",
     "level": 2,
     "metadata": {},
     "source": [
      "Problem 1a"
     ]
    },
    {
     "cell_type": "markdown",
     "metadata": {},
     "source": [
      "Calculate the magnetostatic interaction energy for one Bohr magneton in a field of 40 $\\mu$T and plot for angles 0 $\\rightarrow$ 180. To do anything, we need to import numpy and matplotlib first. "
     ]
    },
    {
     "cell_type": "code",
     "collapsed": false,
     "input": [
      "import numpy as np\n",
      "import matplotlib.pyplot as plt\n",
      "%matplotlib inline \n",
      "# This allows us to plot in the notebook environment"
     ],
     "language": "python",
     "metadata": {},
     "outputs": [],
     "prompt_number": 2
    },
    {
     "cell_type": "markdown",
     "metadata": {},
     "source": [
      "Use the equation: $E=-m_b B \\cos(\\theta)$ for range of $\\theta$s. "
     ]
    },
    {
     "cell_type": "code",
     "collapsed": false,
     "input": [
      "deg2rad=np.pi/180.  # converts degrees to radians\n",
      "mb=9.27e-24 # one Bohr magneton in Am^2\n",
      "B=40e-6 # field in tesla\n",
      "thetas=np.arange(0,180,1) # makes an array of thetas from 0 to 180\n",
      "Es=-mb*B*np.cos(thetas*deg2rad) # makes an array of energies\n",
      "plt.plot(thetas,Es) # make a nice plot\n",
      "plt.title(\"Magnetostatic energy versus angle\")\n",
      "plt.xlabel(\"Angle between moment and applied field\")\n",
      "plt.ylabel(\"Magnetostatic in Joules\")"
     ],
     "language": "python",
     "metadata": {},
     "outputs": [
      {
       "metadata": {},
       "output_type": "pyout",
       "prompt_number": 3,
       "text": [
        "<matplotlib.text.Text at 0x10bdc2590>"
       ]
      },
      {
       "metadata": {},
       "output_type": "display_data",
       "png": "[encoded data removed]",
       "text": [
        "<matplotlib.figure.Figure at 0x10bc7f190>"
       ]
      }
     ],
     "prompt_number": 3
    },
    {
     "cell_type": "heading",
     "level": 2,
     "metadata": {},
     "source": [
      "Problem 1b"
     ]
    },
    {
     "cell_type": "markdown",
     "metadata": {},
     "source": [
      "For the rest of the problem we need to know the thermal energy (Bolzmann's constant $k=1.38 x 10^{-23}$ J/K and the absolute temperature $T=300$ Kelvin.  "
     ]
    },
    {
     "cell_type": "code",
     "collapsed": false,
     "input": [
      "k=1.38e-23\n",
      "T=300\n",
      "print 'Thermal energy at room temperature is: ',k*T"
     ],
     "language": "python",
     "metadata": {},
     "outputs": [
      {
       "output_type": "stream",
       "stream": "stdout",
       "text": [
        "Thermal energy at room temperature is:  4.14e-21\n"
       ]
      }
     ],
     "prompt_number": 4
    },
    {
     "cell_type": "markdown",
     "metadata": {},
     "source": [
      "Which is a LOT bigger than the magnetostatic energy. "
     ]
    },
    {
     "cell_type": "heading",
     "level": 2,
     "metadata": {},
     "source": [
      "Problem 2a"
     ]
    },
    {
     "cell_type": "markdown",
     "metadata": {},
     "source": [
      "We must find the induced  moment $m$ knowing that the magnetetization (moment per unit volume) is  $M=\\chi_p H$ for a paramagnetic substance.  For Fayalite $\\chi_p$ = = 4.4 x 10$^{-4}$ (cgs; per unit volume). "
     ]
    },
    {
     "cell_type": "code",
     "collapsed": false,
     "input": [
      "chi_p=4.4e-4 # susceptibility of fayalite in cgs per volume\n",
      "B = 10. # applied field in Oersteds\n",
      "vol=2. # volume in cm^3\n",
      "M=chi_p*B # magnetization\n",
      "m=M*vol # moment in emu\n",
      "print m\n"
     ],
     "language": "python",
     "metadata": {},
     "outputs": [
      {
       "output_type": "stream",
       "stream": "stdout",
       "text": [
        "0.0088\n"
       ]
      }
     ],
     "prompt_number": 5
    },
    {
     "cell_type": "heading",
     "level": 2,
     "metadata": {},
     "source": [
      "Problem 2b"
     ]
    },
    {
     "cell_type": "markdown",
     "metadata": {},
     "source": [
      "Now we have to convert everything to SI. \n",
      "\n",
      "$\\chi_{SI} = 4\\pi\\chi_{cgs}$\n",
      "\n",
      "$H_{SI}={{H_{cgs}}\\over {4\\pi 10^{-3}}}$\n",
      "\n",
      "$vol_{SI}={{vol_{cgs}}*{10^{-6}}}$ \n"
     ]
    },
    {
     "cell_type": "code",
     "collapsed": false,
     "input": [
      "chi_SI=chi_p*4.*np.pi\n",
      "H_SI = B/(np.pi*4.*1e-3)\n",
      "vol_SI=vol*1e-6\n",
      "M_SI=H_SI*chi_SI\n",
      "m_SI=M_SI*vol_SI\n",
      "print 'Magnetization in A/m is: ',M_SI\n",
      "print 'magnetic moment in Am^2 is: ',m_SI"
     ],
     "language": "python",
     "metadata": {},
     "outputs": [
      {
       "output_type": "stream",
       "stream": "stdout",
       "text": [
        "Magnetization in A/m is:  4.4\n",
        "magnetic moment in Am^2 is:  8.8e-06\n"
       ]
      }
     ],
     "prompt_number": 6
    },
    {
     "cell_type": "markdown",
     "metadata": {},
     "source": [
      "Now we have to convert the $m$ in Am$^2$ to emu cm$^{-3}$ by muliplying by 10$^3$."
     ]
    },
    {
     "cell_type": "code",
     "collapsed": false,
     "input": [
      "m_cgs=m_SI*1e3\n",
      "print 'converted to cgs, m is: ',m_cgs"
     ],
     "language": "python",
     "metadata": {},
     "outputs": [
      {
       "output_type": "stream",
       "stream": "stdout",
       "text": [
        "converted to cgs, m is:  0.0088\n"
       ]
      }
     ],
     "prompt_number": 7
    },
    {
     "cell_type": "heading",
     "level": 2,
     "metadata": {},
     "source": [
      "Problem 3"
     ]
    },
    {
     "cell_type": "markdown",
     "metadata": {},
     "source": [
      "The governing equation here is the Curie Law of  paramagnetic susceptibility (Equation 3.6 in the text):\n",
      "$$\n",
      "\\chi_p={M\\over H} =  {{Nm^2\\mu_o}\\over{3kv}}\\cdot {1\\over T}.\n",
      "$$\n",
      "\n",
      "which shows that $\\chi_p$ is inversely related to temperature. We were given $\\chi_p$ at 273K, so at 773K, we have:\n",
      "$$\n",
      "\\chi_{773} = {\\chi_{273}} { 273\\over{773}} = { 4.4 \\times 10^{-4}  } { 273\\over{773}} = 1.6 \\times 10^{-4} { {\\hbox {emu}} \\over {\\hbox {cm}^3 \\hbox{oe}}}\n",
      "$$\n",
      "\n",
      "So if $H$ = 100 oe at T= 773K:  \n",
      "\n",
      "$$\n",
      "M = \\chi_{773} H = 1.6 \\times 10^{-2} { {\\hbox {emu}} \\over {\\hbox {cm}^3 }}\n",
      "$$\n",
      "\n"
     ]
    },
    {
     "cell_type": "heading",
     "level": 2,
     "metadata": {},
     "source": [
      "Problem 4"
     ]
    },
    {
     "cell_type": "markdown",
     "metadata": {},
     "source": [
      "Here again we use the Curie Law of Paramagnetism:\n",
      "$$\n",
      "\\chi_p =  {N\\over v} m_b^2 { {\\mu_o}\\over {3kT}} .\n",
      "$$\n",
      "\n",
      "${N\\over v}$ is the number of atomic magnetic moments per unit volume.  The number of atoms was   given to us as 4 x 10$^{28}$ per m$^3$ and ${\\bf m_b}$ is their moment (the Bohr magneton).   Looking up from Figure 3.4 in the text we find that there are 5 unpaired spins for Mn$^{2+}$.   So ${N\\over v}$ is 20 x 10$^{28}$.    The other parameters are given in the text as $\\mu_o = 4 \\pi$ x 10$^{-7}$ Hm$^{-1}$,  $m_b$ = 9.27 x 10$^{-24}$ Am$^2$ and $k$ = 1.381 x 10$^{-23}$ JK$^{-1}$.   So,  $\\chi_p \\sim 1.7$ x 10$^{-3}$.  \n"
     ]
    },
    {
     "cell_type": "heading",
     "level": 2,
     "metadata": {},
     "source": [
      "Problem 5"
     ]
    },
    {
     "cell_type": "markdown",
     "metadata": {},
     "source": [
      "For this problem, we need to find the data file curie\\_example.dat that is in the curie folder in the Datafiles folder that comes with PmagPy.  Copy it into the same folder that has this notebook.  Read it in and make a simple X,Y plot of the data.  "
     ]
    },
    {
     "cell_type": "code",
     "collapsed": false,
     "input": [
      "data=np.loadtxt('curie_example.dat').transpose()\n",
      "plt.plot(data[0],data[1])\n",
      "plt.xlabel(r'Temperature ($^{\\circ}$C)')\n",
      "plt.ylabel('Magnetization (arbitrary units)')\n",
      "           "
     ],
     "language": "python",
     "metadata": {},
     "outputs": [
      {
       "metadata": {},
       "output_type": "pyout",
       "prompt_number": 8,
       "text": [
        "<matplotlib.text.Text at 0x10c36e990>"
       ]
      },
      {
       "metadata": {},
       "output_type": "display_data",
       "png": "[encoded data removed]",
       "text": [
        "<matplotlib.figure.Figure at 0x10bc77f90>"
       ]
      }
     ],
     "prompt_number": 8
    },
    {
     "cell_type": "markdown",
     "metadata": {},
     "source": [
      "Now go to the command line in the same directory and try curie.py with the syntax curie.py -f curie\\_example.dat to see how the second derivative method works. You will see that the Curie Temperature is $\\sim$ 550$^{\\circ}$C."
     ]
    }
   ],
   "metadata": {}
  }
 ]
}